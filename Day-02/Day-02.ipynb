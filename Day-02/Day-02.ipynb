{
 "cells": [
  {
   "cell_type": "markdown",
   "id": "80187737",
   "metadata": {},
   "source": [
    "# Python"
   ]
  },
  {
   "cell_type": "markdown",
   "id": "335fdfd2",
   "metadata": {},
   "source": [
    "## Variable:\n",
    "    - To store a value\n",
    "    - To change a value"
   ]
  },
  {
   "cell_type": "code",
   "execution_count": 3,
   "id": "ba2afe53",
   "metadata": {},
   "outputs": [],
   "source": [
    "a = 35"
   ]
  },
  {
   "cell_type": "code",
   "execution_count": 1,
   "id": "51ea1af8",
   "metadata": {},
   "outputs": [
    {
     "data": {
      "text/plain": [
       "45"
      ]
     },
     "execution_count": 1,
     "metadata": {},
     "output_type": "execute_result"
    }
   ],
   "source": [
    "a = 45\n",
    "a"
   ]
  },
  {
   "cell_type": "code",
   "execution_count": 4,
   "id": "f8d5ae1e",
   "metadata": {},
   "outputs": [
    {
     "data": {
      "text/plain": [
       "35"
      ]
     },
     "execution_count": 4,
     "metadata": {},
     "output_type": "execute_result"
    }
   ],
   "source": [
    "a"
   ]
  },
  {
   "cell_type": "code",
   "execution_count": 5,
   "id": "03ad7ca9",
   "metadata": {},
   "outputs": [
    {
     "data": {
      "text/plain": [
       "20"
      ]
     },
     "execution_count": 5,
     "metadata": {},
     "output_type": "execute_result"
    }
   ],
   "source": [
    "j = 20\n",
    "k = 45\n",
    "k\n",
    "j"
   ]
  },
  {
   "cell_type": "code",
   "execution_count": 6,
   "id": "b2597e54",
   "metadata": {},
   "outputs": [
    {
     "data": {
      "text/plain": [
       "45"
      ]
     },
     "execution_count": 6,
     "metadata": {},
     "output_type": "execute_result"
    }
   ],
   "source": [
    "k"
   ]
  },
  {
   "cell_type": "code",
   "execution_count": 7,
   "id": "419c2c87",
   "metadata": {},
   "outputs": [
    {
     "data": {
      "text/plain": [
       "(20, 45)"
      ]
     },
     "execution_count": 7,
     "metadata": {},
     "output_type": "execute_result"
    }
   ],
   "source": [
    "j,k"
   ]
  },
  {
   "cell_type": "code",
   "execution_count": 8,
   "id": "07e9b829",
   "metadata": {},
   "outputs": [
    {
     "data": {
      "text/plain": [
       "(12, '45')"
      ]
     },
     "execution_count": 8,
     "metadata": {},
     "output_type": "execute_result"
    }
   ],
   "source": [
    "m,n = 12,'45'\n",
    "m,n"
   ]
  },
  {
   "cell_type": "code",
   "execution_count": 9,
   "id": "179f08cd",
   "metadata": {},
   "outputs": [
    {
     "name": "stdout",
     "output_type": "stream",
     "text": [
      "12 45\n"
     ]
    }
   ],
   "source": [
    "print(m,n)"
   ]
  },
  {
   "cell_type": "markdown",
   "id": "ab1c09f4",
   "metadata": {},
   "source": [
    "## Data types:\n",
    "    - int -> only integer values\n",
    "    - float -> Allows integer values and decimal values\n",
    "    - str -> ' or '' or '''\n",
    "    - [All Data structures]"
   ]
  },
  {
   "cell_type": "markdown",
   "id": "1c4d6666",
   "metadata": {},
   "source": [
    "## Type:\n",
    "    - To know the data type for a variable"
   ]
  },
  {
   "cell_type": "code",
   "execution_count": 12,
   "id": "631fb598",
   "metadata": {},
   "outputs": [
    {
     "name": "stdout",
     "output_type": "stream",
     "text": [
      "45 <class 'int'>\n",
      "23.56 <class 'float'>\n",
      "raju <class 'str'>\n",
      "45 <class 'str'>\n"
     ]
    }
   ],
   "source": [
    "m,n,p,q = 45,23.56,\"raju\",'45'\n",
    "print(m,type(m))\n",
    "print(n,type(n))\n",
    "print(p,type(p))\n",
    "print(q,type(q))"
   ]
  },
  {
   "cell_type": "code",
   "execution_count": 13,
   "id": "5f601556",
   "metadata": {},
   "outputs": [
    {
     "name": "stdout",
     "output_type": "stream",
     "text": [
      "0 0 0 0 <class 'int'>\n"
     ]
    }
   ],
   "source": [
    "k = p = o = s = 0\n",
    "print(k,p,o,s,type(p))"
   ]
  },
  {
   "cell_type": "markdown",
   "id": "3b1fd639",
   "metadata": {},
   "source": [
    "## Input formatting:\n",
    "    -> Dynamic programming\n",
    "    -> By default it stores string data type values from user\n",
    "    -> It acts like print and reading input from user"
   ]
  },
  {
   "cell_type": "code",
   "execution_count": 15,
   "id": "90285a1e",
   "metadata": {},
   "outputs": [
    {
     "name": "stdout",
     "output_type": "stream",
     "text": [
      "10\n",
      "10 <class 'str'>\n"
     ]
    }
   ],
   "source": [
    "n = input()\n",
    "print(n,type(n))"
   ]
  },
  {
   "cell_type": "code",
   "execution_count": 18,
   "id": "a3aaa06a",
   "metadata": {},
   "outputs": [
    {
     "data": {
      "text/plain": [
       "10"
      ]
     },
     "execution_count": 18,
     "metadata": {},
     "output_type": "execute_result"
    }
   ],
   "source": [
    "a=10\n",
    "a"
   ]
  },
  {
   "cell_type": "code",
   "execution_count": null,
   "id": "045ddc68",
   "metadata": {},
   "outputs": [],
   "source": []
  }
 ],
 "metadata": {
  "kernelspec": {
   "display_name": "Python 3",
   "language": "python",
   "name": "python3"
  },
  "language_info": {
   "codemirror_mode": {
    "name": "ipython",
    "version": 3
   },
   "file_extension": ".py",
   "mimetype": "text/x-python",
   "name": "python",
   "nbconvert_exporter": "python",
   "pygments_lexer": "ipython3",
   "version": "3.7.5"
  }
 },
 "nbformat": 4,
 "nbformat_minor": 5
}
