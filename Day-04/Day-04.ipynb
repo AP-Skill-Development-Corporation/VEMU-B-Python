{
 "cells": [
  {
   "cell_type": "markdown",
   "id": "280c254e",
   "metadata": {},
   "source": [
    "## Control Statements:\n",
    "    - To control the flow of execution\n",
    "    - for => For known ranges\n",
    "    - while => For known and unknown ranges"
   ]
  },
  {
   "cell_type": "markdown",
   "id": "8e1ff554",
   "metadata": {},
   "source": [
    "## for\n",
    "    Syntax:\n",
    "     for iterationvariablename in range(start,end,step):\n",
    "         //stmnts\n",
    "        \n",
    "     for iterationvariablename in iterator:\n",
    "         //stmnts\n",
    "         \n",
    "     ** range(end):\n",
    "         => Exactly it starts from 0 and ends to end-1 and increments to 1 by default\n",
    "     ** range(start,end):\n",
    "         => Exactly it starts from start value and ends with end-1 and step with increment of 1 value by default\n",
    "     ** range(start,end,step):\n",
    "         => Exactly it starts from start value and ends with end-1 and step with user defined value either in forward or backward directions"
   ]
  },
  {
   "cell_type": "code",
   "execution_count": 3,
   "id": "483eeedb",
   "metadata": {},
   "outputs": [
    {
     "name": "stdout",
     "output_type": "stream",
     "text": [
      "Enter a range number: 10\n",
      "0 2 4 6 8 "
     ]
    }
   ],
   "source": [
    "n = int(input(\"Enter a range number: \"))\n",
    "for i in range(n):\n",
    "    if i%2 == 0:\n",
    "        print(i,end=\" \")"
   ]
  },
  {
   "cell_type": "code",
   "execution_count": null,
   "id": "9a3b88eb",
   "metadata": {},
   "outputs": [],
   "source": [
    "3\n",
    "12\n",
    "12\n",
    "20.45\n",
    "20.45\n",
    "raju\n",
    "raju"
   ]
  },
  {
   "cell_type": "code",
   "execution_count": 4,
   "id": "9eaab988",
   "metadata": {},
   "outputs": [
    {
     "name": "stdout",
     "output_type": "stream",
     "text": [
      "Enter a range: 3\n",
      "Enter input: 12\n",
      "12\n",
      "Enter input: 20.5\n",
      "20.5\n",
      "Enter input: raju\n",
      "raju\n"
     ]
    }
   ],
   "source": [
    "n = int(input(\"Enter a range: \"))\n",
    "for i in range(n):\n",
    "    k = input(\"Enter input: \")\n",
    "    print(k)"
   ]
  },
  {
   "cell_type": "code",
   "execution_count": 5,
   "id": "70f763ed",
   "metadata": {},
   "outputs": [
    {
     "name": "stdout",
     "output_type": "stream",
     "text": [
      "Enter starting range: 100\n",
      "Enter Ending range: 150\n",
      "100 101 102 103 104 105 106 107 108 109 110 111 112 113 114 115 116 117 118 119 120 121 122 123 124 125 126 127 128 129 130 131 132 133 134 135 136 137 138 139 140 141 142 143 144 145 146 147 148 149 "
     ]
    }
   ],
   "source": [
    "st = int(input(\"Enter starting range: \"))\n",
    "en = int(input(\"Enter Ending range: \"))\n",
    "for j in range(st,en):\n",
    "    print(j,end=\" \")"
   ]
  },
  {
   "cell_type": "code",
   "execution_count": 6,
   "id": "855e1cfe",
   "metadata": {},
   "outputs": [
    {
     "name": "stdout",
     "output_type": "stream",
     "text": [
      "Enter starting range: 2\n",
      "Enter Ending range: 4\n",
      "Enter input: 12\n",
      "12 Enter input: 45\n",
      "45 "
     ]
    }
   ],
   "source": [
    "st = int(input(\"Enter starting range: \"))\n",
    "en = int(input(\"Enter Ending range: \"))\n",
    "for j in range(st,en):\n",
    "    g = input(\"Enter input: \")\n",
    "    print(g,end=\" \")"
   ]
  },
  {
   "cell_type": "code",
   "execution_count": null,
   "id": "c65177ac",
   "metadata": {},
   "outputs": [],
   "source": [
    "194M1A0401\n",
    "|    |   |\n",
    "|    |   |\n",
    "194M1A0409\n",
    "194M1A0410"
   ]
  },
  {
   "cell_type": "code",
   "execution_count": 9,
   "id": "dbb955ae",
   "metadata": {},
   "outputs": [
    {
     "name": "stdout",
     "output_type": "stream",
     "text": [
      "Enter a range: 11\n",
      "194M1A0400\n",
      "194M1A0401\n",
      "194M1A0402\n",
      "194M1A0403\n",
      "194M1A0404\n",
      "194M1A0405\n",
      "194M1A0406\n",
      "194M1A0407\n",
      "194M1A0408\n",
      "194M1A0409\n",
      "194M1A0410\n"
     ]
    }
   ],
   "source": [
    "n = int(input(\"Enter a range: \"))\n",
    "for i in range(n):\n",
    "    if i<=9:\n",
    "        print(\"194M1A040\"+str(i))\n",
    "    else:\n",
    "        print(\"194M1A04\"+str(i))"
   ]
  },
  {
   "cell_type": "code",
   "execution_count": 12,
   "id": "9446b678",
   "metadata": {},
   "outputs": [
    {
     "name": "stdout",
     "output_type": "stream",
     "text": [
      "000\n",
      "001\n",
      "002\n",
      "003\n",
      "004\n",
      "005\n",
      "006\n",
      "007\n",
      "008\n",
      "009\n",
      "010\n",
      "011\n",
      "012\n",
      "013\n",
      "014\n"
     ]
    }
   ],
   "source": [
    "for i in range(15):\n",
    "    print(\"{:03}\".format(i))"
   ]
  },
  {
   "cell_type": "code",
   "execution_count": 13,
   "id": "94b7cea2",
   "metadata": {},
   "outputs": [
    {
     "name": "stdout",
     "output_type": "stream",
     "text": [
      "Enter a range: 15\n",
      "194M1A0400\n",
      "194M1A0401\n",
      "194M1A0402\n",
      "194M1A0403\n",
      "194M1A0404\n",
      "194M1A0405\n",
      "194M1A0406\n",
      "194M1A0407\n",
      "194M1A0408\n",
      "194M1A0409\n",
      "194M1A0410\n",
      "194M1A0411\n",
      "194M1A0412\n",
      "194M1A0413\n",
      "194M1A0414\n"
     ]
    }
   ],
   "source": [
    "n = int(input(\"Enter a range: \"))\n",
    "for i in range(n):\n",
    "    print(\"194M1A04{:02}\".format(i))"
   ]
  },
  {
   "cell_type": "code",
   "execution_count": 14,
   "id": "5ac96536",
   "metadata": {},
   "outputs": [
    {
     "name": "stdout",
     "output_type": "stream",
     "text": [
      "Enter starting range: 20\n",
      "Enter ending range: 30\n",
      "194M1A0420\n",
      "194M1A0421\n",
      "194M1A0422\n",
      "194M1A0423\n",
      "194M1A0424\n",
      "194M1A0425\n",
      "194M1A0426\n",
      "194M1A0427\n",
      "194M1A0428\n",
      "194M1A0429\n"
     ]
    }
   ],
   "source": [
    "st = int(input(\"Enter starting range: \"))\n",
    "en = int(input(\"Enter ending range: \"))\n",
    "for i in range(st,en):\n",
    "    print(\"194M1A04{:02}\".format(i))"
   ]
  },
  {
   "cell_type": "code",
   "execution_count": 4,
   "id": "0aa10802",
   "metadata": {},
   "outputs": [
    {
     "name": "stdout",
     "output_type": "stream",
     "text": [
      "Enter starting range: 10\n",
      "Enter ending range: 20\n",
      "Enter Stepping Number: 2\n",
      "10 12 14 16 18 "
     ]
    }
   ],
   "source": [
    "k = int(input(\"Enter starting range: \"))\n",
    "m = int(input(\"Enter ending range: \"))\n",
    "n = int(input(\"Enter Stepping Number: \"))\n",
    "for i in range(k,m,n):\n",
    "    print(i,end=\" \")"
   ]
  },
  {
   "cell_type": "markdown",
   "id": "a0f7ae4e",
   "metadata": {},
   "source": [
    "## While:\n",
    "    Syntax:\n",
    "        initialization of variable\n",
    "        while condition:\n",
    "            //stmnts\n",
    "            incr/decr"
   ]
  },
  {
   "cell_type": "code",
   "execution_count": 1,
   "id": "ec54af9c",
   "metadata": {},
   "outputs": [
    {
     "name": "stdout",
     "output_type": "stream",
     "text": [
      "Enter a number: 20\n",
      "0 1 2 3 4 5 6 7 8 9 10 11 12 13 14 15 16 17 18 19 "
     ]
    }
   ],
   "source": [
    "n = int(input(\"Enter a number: \"))\n",
    "i = 0\n",
    "while i!=n:\n",
    "    print(i,end=\" \")\n",
    "    i +=1"
   ]
  },
  {
   "cell_type": "code",
   "execution_count": 2,
   "id": "3e8b6a88",
   "metadata": {},
   "outputs": [
    {
     "name": "stdout",
     "output_type": "stream",
     "text": [
      "Enter a number: 20\n",
      "20 19 18 17 16 15 14 13 12 11 10 9 8 7 6 5 4 3 2 1 "
     ]
    }
   ],
   "source": [
    "k = int(input(\"Enter a number: \"))\n",
    "while k!=0:\n",
    "    print(k,end=\" \")\n",
    "    k -=1"
   ]
  },
  {
   "cell_type": "code",
   "execution_count": 3,
   "id": "1d3cc8b5",
   "metadata": {},
   "outputs": [
    {
     "name": "stdout",
     "output_type": "stream",
     "text": [
      "Enter a number: 1234\n",
      "Entered number is: 1234\n",
      "Reverse of 1234 is: 4321\n"
     ]
    }
   ],
   "source": [
    "m = int(input(\"Enter a number: \"))\n",
    "r = 0\n",
    "n = m\n",
    "while m!=0:\n",
    "    r = r*10+m%10\n",
    "    m //=10\n",
    "print(\"Entered number is: {}\\nReverse of {} is: {}\".\n",
    "     format(n,n,r))"
   ]
  },
  {
   "cell_type": "code",
   "execution_count": 5,
   "id": "7c04b4ff",
   "metadata": {},
   "outputs": [
    {
     "name": "stdout",
     "output_type": "stream",
     "text": [
      "1.Name\n",
      "2.Roll number\n",
      "3.Exit\n",
      "Enter Your Choice: 2\n",
      "Enter Roll number: 123\n",
      "123\n",
      "1.Name\n",
      "2.Roll number\n",
      "3.Exit\n",
      "Enter Your Choice: 1\n",
      "Enter Your name: raju\n",
      "raju\n",
      "1.Name\n",
      "2.Roll number\n",
      "3.Exit\n",
      "Enter Your Choice: 4\n"
     ]
    }
   ],
   "source": [
    "while True:\n",
    "    print(\"1.Name\\n2.Roll number\\n3.Exit\")\n",
    "    n = int(input(\"Enter Your Choice: \"))\n",
    "    if n == 1:\n",
    "        m = input(\"Enter Your name: \")\n",
    "        print(m)\n",
    "    elif n == 2:\n",
    "        g = input(\"Enter Roll number: \")\n",
    "        print(g)\n",
    "    else:\n",
    "        break"
   ]
  },
  {
   "cell_type": "markdown",
   "id": "75406eed",
   "metadata": {},
   "source": [
    "## Jumping Statements:\n",
    "    - To Control the flow of execution to check for condition to skip or else to exit.\n",
    "    - continue -> To skip a value from loop\n",
    "    - break -> To exit from a loop when it satisfies the value\n",
    "    - pass -> It doesnt print it i used for further uses\n",
    "    - return -> It returns a single or multiple values"
   ]
  },
  {
   "cell_type": "code",
   "execution_count": 5,
   "id": "e81cd866",
   "metadata": {},
   "outputs": [
    {
     "name": "stdout",
     "output_type": "stream",
     "text": [
      "enter a number :10\n",
      "10 11 12 13 14 16 17 18 19 \n",
      "9\n"
     ]
    }
   ],
   "source": [
    "n = int(input(\"enter a number :\"))\n",
    "c = 0\n",
    "while n != 20:\n",
    "    if n == 15:\n",
    "        n+=1\n",
    "        continue\n",
    "    else:\n",
    "        print(n,end=\" \")\n",
    "    n+=1\n",
    "    c +=1\n",
    "print(end=\"\\n\")\n",
    "print(c)"
   ]
  },
  {
   "cell_type": "code",
   "execution_count": 7,
   "id": "0b80a9db",
   "metadata": {},
   "outputs": [
    {
     "name": "stdout",
     "output_type": "stream",
     "text": [
      "Enter a range: 10\n",
      "Enter a number to break: 5\n",
      "1 2 3 4 "
     ]
    }
   ],
   "source": [
    "h = int(input(\"Enter a range: \"))\n",
    "k = int(input(\"Enter a number to break: \"))\n",
    "for i in range(1,h):\n",
    "    if i==k:\n",
    "        break\n",
    "    else:\n",
    "        print(i,end=\" \")"
   ]
  },
  {
   "cell_type": "markdown",
   "id": "e16af6da",
   "metadata": {},
   "source": [
    "## Inner Loops:\n",
    "    - Loop within a loop\n",
    "    Syntax:\n",
    "      for iterationvariable in range(start,stop):\n",
    "          for iterationvariable in range(start,stop):\n",
    "              //stmnts\n",
    "          print()"
   ]
  },
  {
   "cell_type": "code",
   "execution_count": 9,
   "id": "c3cca9db",
   "metadata": {},
   "outputs": [
    {
     "name": "stdout",
     "output_type": "stream",
     "text": [
      "4\n",
      "1 1 1 \n",
      "2 2 2 \n",
      "3 3 3 \n"
     ]
    }
   ],
   "source": [
    "k = int(input())\n",
    "for i in range(1,k):\n",
    "    for j in range(1,k):\n",
    "        print(i,end=\" \")\n",
    "    print(end=\"\\n\")"
   ]
  },
  {
   "cell_type": "code",
   "execution_count": null,
   "id": "29a01742",
   "metadata": {},
   "outputs": [],
   "source": []
  }
 ],
 "metadata": {
  "kernelspec": {
   "display_name": "Python 3",
   "language": "python",
   "name": "python3"
  },
  "language_info": {
   "codemirror_mode": {
    "name": "ipython",
    "version": 3
   },
   "file_extension": ".py",
   "mimetype": "text/x-python",
   "name": "python",
   "nbconvert_exporter": "python",
   "pygments_lexer": "ipython3",
   "version": "3.7.5"
  }
 },
 "nbformat": 4,
 "nbformat_minor": 5
}
