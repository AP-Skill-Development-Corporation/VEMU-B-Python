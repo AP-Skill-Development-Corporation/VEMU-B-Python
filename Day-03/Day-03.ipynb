{
 "cells": [
  {
   "cell_type": "markdown",
   "id": "a7b33b37",
   "metadata": {},
   "source": [
    "## Typecast\n",
    "    - To change the data type values from one data type to another data type"
   ]
  },
  {
   "cell_type": "code",
   "execution_count": 2,
   "id": "32bbccca",
   "metadata": {},
   "outputs": [
    {
     "name": "stdout",
     "output_type": "stream",
     "text": [
      "Enter a value: 12\n",
      "12 <class 'str'>\n",
      "Entered number is:  12\n",
      "Entered number is:  12 <class 'int'>\n",
      "12 <class 'str'>\n"
     ]
    }
   ],
   "source": [
    "n = input(\"Enter a value: \")\n",
    "print(n,type(n))\n",
    "print(\"Entered number is: \",n)\n",
    "print(\"Entered number is: \",int(n),type(int(n)))\n",
    "print(n,type(n))"
   ]
  },
  {
   "cell_type": "code",
   "execution_count": 3,
   "id": "eac86a2e",
   "metadata": {},
   "outputs": [
    {
     "name": "stdout",
     "output_type": "stream",
     "text": [
      "Enter a number: 45\n",
      "45 <class 'int'>\n"
     ]
    }
   ],
   "source": [
    "m = int(input(\"Enter a number: \"))\n",
    "print(m,type(m))"
   ]
  },
  {
   "cell_type": "code",
   "execution_count": 5,
   "id": "bdd7ce70",
   "metadata": {},
   "outputs": [
    {
     "name": "stdout",
     "output_type": "stream",
     "text": [
      "enter a number: 23.000\n",
      "23.0 <class 'float'>\n"
     ]
    }
   ],
   "source": [
    "k = float(input(\"enter a number: \"))\n",
    "print(k,type(k))"
   ]
  },
  {
   "cell_type": "code",
   "execution_count": 6,
   "id": "9bb296f7",
   "metadata": {},
   "outputs": [
    {
     "name": "stdout",
     "output_type": "stream",
     "text": [
      "45\n"
     ]
    },
    {
     "data": {
      "text/plain": [
       "'45'"
      ]
     },
     "execution_count": 6,
     "metadata": {},
     "output_type": "execute_result"
    }
   ],
   "source": [
    "k = int(input())\n",
    "str(k)"
   ]
  },
  {
   "cell_type": "markdown",
   "id": "e2441d0d",
   "metadata": {},
   "source": [
    "## Output Formatting\n",
    "    - ,\n",
    "    - %\n",
    "    - .format"
   ]
  },
  {
   "cell_type": "code",
   "execution_count": 9,
   "id": "f2a345f6",
   "metadata": {},
   "outputs": [
    {
     "name": "stdout",
     "output_type": "stream",
     "text": [
      "Enter First value: 2\n",
      "Enter Second Value: 5\n",
      "Entered First number is:  2\n",
      "Entered Second Number is:  5\n",
      "Sum of 2 and 5 is:  7\n"
     ]
    }
   ],
   "source": [
    "j,n = int(input(\"Enter First value: \")),int(input(\"Enter Second Value: \"))\n",
    "print(\"Entered First number is: \",j)\n",
    "print(\"Entered Second Number is: \",n)\n",
    "print(\"Sum of\",j,\"and\",n,\"is: \",j+n)\n",
    "print(\"sub of %d and %d is: %d\"%(j,n,j-n))\n",
    "print(\"Division of {} and {} is: {}\".format(j,n,j/n))"
   ]
  },
  {
   "cell_type": "markdown",
   "id": "108bce90",
   "metadata": {},
   "source": [
    "## Operators:\n",
    "    - Arithmetic => +,-,*,/,%,//,** \n",
    "    - Assignment => +=,-=,/=,%=,//=,*=\n",
    "    - Logical => AND,OR,NOT\n",
    "    - Relational => >,<,==,!=,>=,<=\n",
    "    - Bitwise => &&,||,~,>>,<<\n",
    "    - Membership => in, not in\n",
    "    - Identity => is,is not"
   ]
  },
  {
   "cell_type": "markdown",
   "id": "c3feee13",
   "metadata": {},
   "source": [
    "# Conditional Statements:\n",
    "    - To Check whether a given condition is either True or False\n",
    "    - if -> single case\n",
    "    - if-else -> two cases\n",
    "    - elif -> two or more\n",
    "    - nested if -> two or more but if and else or optional in inner of first coditional statements"
   ]
  },
  {
   "cell_type": "markdown",
   "id": "c7ff5772",
   "metadata": {},
   "source": [
    "## If:\n",
    "    - Single case [Condition is either True or False]\n",
    "    Syntax:\n",
    "        if (condition):\n",
    "            //stmnts"
   ]
  },
  {
   "cell_type": "code",
   "execution_count": null,
   "id": "f0ed75e6",
   "metadata": {},
   "outputs": [],
   "source": [
    "n = int(input(\"Enter a number: \"))\n",
    "if n != str(n):\n",
    "    print(\"Given number is not Equal\")"
   ]
  },
  {
   "cell_type": "markdown",
   "id": "acb91c0b",
   "metadata": {},
   "source": [
    "## If-else:\n",
    "    - Two cases\n",
    "    Syntax:\n",
    "        if (condition):\n",
    "            //stmnts-1\n",
    "        else:\n",
    "            //stmnts-2"
   ]
  },
  {
   "cell_type": "code",
   "execution_count": 10,
   "id": "2d37d066",
   "metadata": {},
   "outputs": [
    {
     "name": "stdout",
     "output_type": "stream",
     "text": [
      "Enter Your Age: 45\n",
      "You are Eligible for Voting\n"
     ]
    }
   ],
   "source": [
    "n = int(input(\"Enter Your Age: \"))\n",
    "if n>18:\n",
    "    print(\"You are Eligible for Voting\")\n",
    "else:\n",
    "    print(\"You are not Eligible for Voting\")"
   ]
  },
  {
   "cell_type": "code",
   "execution_count": 11,
   "id": "80d03705",
   "metadata": {},
   "outputs": [
    {
     "name": "stdout",
     "output_type": "stream",
     "text": [
      "Enter a number: 12\n",
      "Entered number 12 is Even\n"
     ]
    }
   ],
   "source": [
    "n = int(input(\"Enter a number: \"))\n",
    "if n%2 == 0:\n",
    "    print(\"Entered number {} is Even\".format(n))\n",
    "else:\n",
    "    print(\"Entered number {} is Odd\".format(n))"
   ]
  },
  {
   "cell_type": "markdown",
   "id": "8481713b",
   "metadata": {},
   "source": [
    "## elif:\n",
    "    - Two or more Cases\n",
    "    Syntax:\n",
    "        if (condition-1):\n",
    "            //stmnt-1\n",
    "        elif (condition-2):\n",
    "            //stmnt-2\n",
    "          |           |\n",
    "        elif (condition-(n-1)):\n",
    "            //stmnt-(n-1)\n",
    "        else:\n",
    "            //stmnt\n",
    "            "
   ]
  },
  {
   "cell_type": "code",
   "execution_count": null,
   "id": "f8388bb2",
   "metadata": {},
   "outputs": [],
   "source": [
    "Input:\n",
    "     20   \n",
    "Output:\n",
    "Entered Age is 20 and Voting eligible is exceed for 2 years\n",
    "\n",
    "Input:\n",
    "    16\n",
    "Entered Age is 16 and Not eligible \n",
    "    for voting you need to wait for till 2 years\n",
    "\n",
    "Input:\n",
    "    18\n",
    "Output:\n",
    "    Entered Age is 18 and you have voting for 0 years"
   ]
  },
  {
   "cell_type": "code",
   "execution_count": 5,
   "id": "6c2897be",
   "metadata": {},
   "outputs": [
    {
     "name": "stdout",
     "output_type": "stream",
     "text": [
      "Enter Your Age: 18\n",
      "Entered Age is 18 and you have voting for 0 years\n"
     ]
    }
   ],
   "source": [
    "k = int(input(\"Enter Your Age: \"))\n",
    "if k>18:\n",
    "    print(\"Entered Age is {} and Voting eligible is exceed for {} years\".format(k,k-18))\n",
    "elif k<18:\n",
    "    print(\"Entered Age is {} and Not eligible voting you need to wait for till {} years\".format(k,18-k))\n",
    "else:\n",
    "    print(\"Entered Age is {} and you have voting for 0 years\".format(k))"
   ]
  },
  {
   "cell_type": "markdown",
   "id": "a903461c",
   "metadata": {},
   "source": [
    "## Nested If\n",
    "    Syntax:\n",
    "        if (condition):\n",
    "            if (condition):\n",
    "                //stmnt-1\n",
    "            else:\n",
    "                //stmnt-2\n",
    "        else:\n",
    "            //stmnt-3"
   ]
  },
  {
   "cell_type": "code",
   "execution_count": null,
   "id": "3ec1d0cf",
   "metadata": {},
   "outputs": [],
   "source": [
    "user = input(\"Enter Your Email: \")\n",
    "pwd = input(\"Enter Your Password: \")\n",
    "if user == \"sample@gmail.com\":\n",
    "    if pwd == \"123\":\n",
    "        print(\"Welcome {}\".format(user))\n",
    "    else:\n",
    "        print(\"Invalid Username/Password\")\n",
    "else:\n",
    "    print(\"Invalid Username/Password\")"
   ]
  },
  {
   "cell_type": "code",
   "execution_count": 9,
   "id": "8f935fac",
   "metadata": {},
   "outputs": [
    {
     "name": "stdout",
     "output_type": "stream",
     "text": [
      "Enter Your Email: sample@gmail.com\n",
      "Enter Your Password: 123\n",
      "Welcome sample@gmail.com\n"
     ]
    }
   ],
   "source": [
    "user = input(\"Enter Your Email: \")\n",
    "pwd = input(\"Enter Your Password: \")\n",
    "if user == \"sample@gmail.com\" and pwd == \"123\":\n",
    "    print(\"Welcome {}\".format(user))\n",
    "else:\n",
    "    print(\"Invalid Username/Password\")"
   ]
  },
  {
   "cell_type": "code",
   "execution_count": 10,
   "id": "7194c36a",
   "metadata": {},
   "outputs": [
    {
     "name": "stdout",
     "output_type": "stream",
     "text": [
      "-------Register--------\n",
      "Enter Your email: raju123@gmail.com\n",
      "Enter Your password: 123\n",
      "You have Successfully Registered with raju123@gmail.com mail\n",
      "--------Login----------\n",
      "Enter Your Email: raju123@gmail.com\n",
      "Enter Your Password: 123\n",
      "Welcome raju123@gmail.com\n"
     ]
    }
   ],
   "source": [
    "print(\"-------Register--------\")\n",
    "u = input(\"Enter Your email: \")\n",
    "p = input(\"Enter Your password: \")\n",
    "print(\"You have Successfully Registered with {} mail\"\n",
    "     .format(u))\n",
    "print(\"--------Login----------\")\n",
    "user = input(\"Enter Your Email: \")\n",
    "pwd = input(\"Enter Your Password: \")\n",
    "if user == u and pwd == p:\n",
    "    print(\"Welcome {}\".format(user))\n",
    "else:\n",
    "    print(\"Invalid Username/Password\")"
   ]
  },
  {
   "cell_type": "code",
   "execution_count": null,
   "id": "6dc290b9",
   "metadata": {},
   "outputs": [],
   "source": [
    "u = input(\"Enter Your Email: \")\n",
    "if u == \"ramu123@gmail.com\":\n",
    "    p = input(\"Enter Password: \")\n",
    "    if p == \"132\":\n",
    "        print(\"Welcome {}\".format(u))\n",
    "    else:\n",
    "        print(\"Invalid Password\")\n",
    "else:\n",
    "    print(\"Invalid Useremail\")"
   ]
  }
 ],
 "metadata": {
  "kernelspec": {
   "display_name": "Python 3",
   "language": "python",
   "name": "python3"
  },
  "language_info": {
   "codemirror_mode": {
    "name": "ipython",
    "version": 3
   },
   "file_extension": ".py",
   "mimetype": "text/x-python",
   "name": "python",
   "nbconvert_exporter": "python",
   "pygments_lexer": "ipython3",
   "version": "3.7.5"
  }
 },
 "nbformat": 4,
 "nbformat_minor": 5
}
