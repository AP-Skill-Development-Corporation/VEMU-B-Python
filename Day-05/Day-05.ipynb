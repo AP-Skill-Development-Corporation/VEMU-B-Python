{
 "cells": [
  {
   "cell_type": "code",
   "execution_count": 17,
   "id": "d403c736",
   "metadata": {},
   "outputs": [
    {
     "name": "stdout",
     "output_type": "stream",
     "text": [
      "[] ## [] ** [] ** [] \n",
      "** ## ** [] ** [] ** \n",
      "|| ## || || || || || \n",
      "** ## ** () ** && ** \n",
      "&& ## && \n"
     ]
    }
   ],
   "source": [
    "a = 0\n",
    "for i in range(1,6):\n",
    "    for j in range(1,8):\n",
    "        a +=1\n",
    "        if a > 31:\n",
    "            break\n",
    "        elif j==2:\n",
    "            print(\"##\",end=\" \")\n",
    "        elif i==3:    \n",
    "            print(\"||\",end=\" \")\n",
    "        elif a%2!=0 and a<=15:\n",
    "            print(\"[]\",end=\" \")\n",
    "        elif a%2==0:\n",
    "            print(\"**\",end=\" \")\n",
    "        elif a%5==0:\n",
    "            print(\"()\",end=\" \")\n",
    "        else:\n",
    "            print(\"&&\",end=\" \")\n",
    "    print(end=\"\\n\")"
   ]
  },
  {
   "cell_type": "markdown",
   "id": "26d302d7",
   "metadata": {},
   "source": [
    "## Data Structures:\n",
    "    - To order the data in a structure way either in order or unorder format\n",
    "    - List\n",
    "    - Tuple\n",
    "    - Set\n",
    "    - Dictionary\n",
    "    - String"
   ]
  },
  {
   "cell_type": "markdown",
   "id": "7c2d7660",
   "metadata": {},
   "source": [
    "# List:\n",
    "    - It can be represented as \"[]\"\n",
    "    - It can changes the value\n",
    "    - It can allows all data type element\n",
    "    - Slicing can be done due to index values\n",
    "    - It stores the data in order format\n",
    "    - It allows duplicate values\n",
    "    - It can be typecast as list()\n",
    "    "
   ]
  },
  {
   "cell_type": "code",
   "execution_count": 18,
   "id": "616560c9",
   "metadata": {},
   "outputs": [
    {
     "name": "stdout",
     "output_type": "stream",
     "text": [
      "[12, 20.45, 'ramesh', '45.0'] <class 'list'>\n"
     ]
    }
   ],
   "source": [
    "k = [12,20.45,\"ramesh\",'45.0']\n",
    "print(k,type(k))"
   ]
  },
  {
   "cell_type": "code",
   "execution_count": 26,
   "id": "24bbad6c",
   "metadata": {
    "scrolled": true
   },
   "outputs": [
    {
     "name": "stdout",
     "output_type": "stream",
     "text": [
      "[12, 20.45, 'ramesh', '45.0']\n",
      "12\n",
      "ramesh\n",
      "[12, 20.45, 'ramesh', '45.0']\n",
      "['ramesh', '45.0']\n",
      "[20.45, 'ramesh', '45.0']\n",
      "[12, 20.45]\n",
      "[12]\n"
     ]
    }
   ],
   "source": [
    "print(k)\n",
    "print(k[0])\n",
    "print(k[-2])\n",
    "print(k[:])\n",
    "print(k[2:])\n",
    "print(k[-3:])\n",
    "print(k[:-2])\n",
    "print(k[:1])"
   ]
  },
  {
   "cell_type": "code",
   "execution_count": 34,
   "id": "7625c00c",
   "metadata": {
    "scrolled": true
   },
   "outputs": [
    {
     "name": "stdout",
     "output_type": "stream",
     "text": [
      "[12, 78, 56, 89, 20.45, 45.68, 'ramu', 'suresh', '78.96', '45']\n",
      "[89, 20.45, 45.68]\n",
      "[56, 89, 20.45]\n",
      "['suresh']\n",
      "['ramu', 'suresh']\n"
     ]
    }
   ],
   "source": [
    "g = [12,78,56,89,20.45,45.68,\"ramu\",\"suresh\",'78.96','45']\n",
    "print(g)\n",
    "print(g[3:-4])\n",
    "print(g[2:5])\n",
    "print(g[-3:-2])\n",
    "print(g[-4:8])"
   ]
  },
  {
   "cell_type": "code",
   "execution_count": 47,
   "id": "e3cbbc8d",
   "metadata": {},
   "outputs": [
    {
     "name": "stdout",
     "output_type": "stream",
     "text": [
      "[12, 78, 56, 89, 20.45, 45.68, 'ramu', 'suresh', '78.96', '45']\n",
      "[12, 78, 56, 89, 20.45, 45.68, 'ramu', 'suresh', '78.96', '45']\n",
      "[56, 89, 20.45, 45.68]\n",
      "[]\n",
      "[56, 20.45, 'ramu']\n",
      "[89, 20.45, 45.68]\n",
      "[]\n",
      "['suresh']\n",
      "['78.96']\n",
      "['suresh']\n",
      "['45', 'ramu', 89, 12]\n",
      "['45', '78.96', 'suresh', 'ramu', 45.68, 20.45, 89, 56, 78, 12]\n"
     ]
    }
   ],
   "source": [
    "print(g)\n",
    "print(g[::])\n",
    "print(g[2:6:])\n",
    "print(g[4:7:-1])\n",
    "print(g[2:7:2])\n",
    "print(g[3:-4:])\n",
    "print(g[2:-2:-2])\n",
    "print(g[-3:4:-3])\n",
    "print(g[-2:-4:-2])\n",
    "print(g[-3:-2:2])\n",
    "print(g[::-3])\n",
    "print(g[::-1])"
   ]
  },
  {
   "cell_type": "code",
   "execution_count": 50,
   "id": "1237a3e8",
   "metadata": {},
   "outputs": [
    {
     "name": "stdout",
     "output_type": "stream",
     "text": [
      "2654646546\n",
      "6456464562 <class 'int'>\n"
     ]
    }
   ],
   "source": [
    "j = int(input())\n",
    "t = str(j)\n",
    "y = int(t[::-1])\n",
    "print(y,type(y))"
   ]
  },
  {
   "cell_type": "code",
   "execution_count": 51,
   "id": "7b1b307e",
   "metadata": {},
   "outputs": [
    {
     "name": "stdout",
     "output_type": "stream",
     "text": [
      "[12, 45, 'tarun'] <class 'list'>\n"
     ]
    }
   ],
   "source": [
    "u = [12,45,'tarun']\n",
    "print(u,type(u))"
   ]
  },
  {
   "cell_type": "code",
   "execution_count": 53,
   "id": "679b7545",
   "metadata": {},
   "outputs": [
    {
     "name": "stdout",
     "output_type": "stream",
     "text": [
      "['__add__', '__class__', '__contains__', '__delattr__', '__delitem__', '__dir__', '__doc__', '__eq__', '__format__', '__ge__', '__getattribute__', '__getitem__', '__gt__', '__hash__', '__iadd__', '__imul__', '__init__', '__init_subclass__', '__iter__', '__le__', '__len__', '__lt__', '__mul__', '__ne__', '__new__', '__reduce__', '__reduce_ex__', '__repr__', '__reversed__', '__rmul__', '__setattr__', '__setitem__', '__sizeof__', '__str__', '__subclasshook__', 'append', 'clear', 'copy', 'count', 'extend', 'index', 'insert', 'pop', 'remove', 'reverse', 'sort']\n"
     ]
    }
   ],
   "source": [
    "print(dir(list))"
   ]
  },
  {
   "cell_type": "code",
   "execution_count": null,
   "id": "ff01ca11",
   "metadata": {},
   "outputs": [
    {
     "name": "stdout",
     "output_type": "stream",
     "text": [
      "\n",
      "Welcome to Python 3.7's help utility!\n",
      "\n",
      "If this is your first time using Python, you should definitely check out\n",
      "the tutorial on the Internet at https://docs.python.org/3.7/tutorial/.\n",
      "\n",
      "Enter the name of any module, keyword, or topic to get help on writing\n",
      "Python programs and using Python modules.  To quit this help utility and\n",
      "return to the interpreter, just type \"quit\".\n",
      "\n",
      "To get a list of available modules, keywords, symbols, or topics, type\n",
      "\"modules\", \"keywords\", \"symbols\", or \"topics\".  Each module also comes\n",
      "with a one-line summary of what it does; to list the modules whose name\n",
      "or summary contain a given string such as \"spam\", type \"modules spam\".\n",
      "\n",
      "help> list\n",
      "Help on class list in module builtins:\n",
      "\n",
      "class list(object)\n",
      " |  list(iterable=(), /)\n",
      " |  \n",
      " |  Built-in mutable sequence.\n",
      " |  \n",
      " |  If no argument is given, the constructor creates a new empty list.\n",
      " |  The argument must be an iterable if specified.\n",
      " |  \n",
      " |  Methods defined here:\n",
      " |  \n",
      " |  __add__(self, value, /)\n",
      " |      Return self+value.\n",
      " |  \n",
      " |  __contains__(self, key, /)\n",
      " |      Return key in self.\n",
      " |  \n",
      " |  __delitem__(self, key, /)\n",
      " |      Delete self[key].\n",
      " |  \n",
      " |  __eq__(self, value, /)\n",
      " |      Return self==value.\n",
      " |  \n",
      " |  __ge__(self, value, /)\n",
      " |      Return self>=value.\n",
      " |  \n",
      " |  __getattribute__(self, name, /)\n",
      " |      Return getattr(self, name).\n",
      " |  \n",
      " |  __getitem__(...)\n",
      " |      x.__getitem__(y) <==> x[y]\n",
      " |  \n",
      " |  __gt__(self, value, /)\n",
      " |      Return self>value.\n",
      " |  \n",
      " |  __iadd__(self, value, /)\n",
      " |      Implement self+=value.\n",
      " |  \n",
      " |  __imul__(self, value, /)\n",
      " |      Implement self*=value.\n",
      " |  \n",
      " |  __init__(self, /, *args, **kwargs)\n",
      " |      Initialize self.  See help(type(self)) for accurate signature.\n",
      " |  \n",
      " |  __iter__(self, /)\n",
      " |      Implement iter(self).\n",
      " |  \n",
      " |  __le__(self, value, /)\n",
      " |      Return self<=value.\n",
      " |  \n",
      " |  __len__(self, /)\n",
      " |      Return len(self).\n",
      " |  \n",
      " |  __lt__(self, value, /)\n",
      " |      Return self<value.\n",
      " |  \n",
      " |  __mul__(self, value, /)\n",
      " |      Return self*value.\n",
      " |  \n",
      " |  __ne__(self, value, /)\n",
      " |      Return self!=value.\n",
      " |  \n",
      " |  __repr__(self, /)\n",
      " |      Return repr(self).\n",
      " |  \n",
      " |  __reversed__(self, /)\n",
      " |      Return a reverse iterator over the list.\n",
      " |  \n",
      " |  __rmul__(self, value, /)\n",
      " |      Return value*self.\n",
      " |  \n",
      " |  __setitem__(self, key, value, /)\n",
      " |      Set self[key] to value.\n",
      " |  \n",
      " |  __sizeof__(self, /)\n",
      " |      Return the size of the list in memory, in bytes.\n",
      " |  \n",
      " |  append(self, object, /)\n",
      " |      Append object to the end of the list.\n",
      " |  \n",
      " |  clear(self, /)\n",
      " |      Remove all items from list.\n",
      " |  \n",
      " |  copy(self, /)\n",
      " |      Return a shallow copy of the list.\n",
      " |  \n",
      " |  count(self, value, /)\n",
      " |      Return number of occurrences of value.\n",
      " |  \n",
      " |  extend(self, iterable, /)\n",
      " |      Extend list by appending elements from the iterable.\n",
      " |  \n",
      " |  index(self, value, start=0, stop=9223372036854775807, /)\n",
      " |      Return first index of value.\n",
      " |      \n",
      " |      Raises ValueError if the value is not present.\n",
      " |  \n",
      " |  insert(self, index, object, /)\n",
      " |      Insert object before index.\n",
      " |  \n",
      " |  pop(self, index=-1, /)\n",
      " |      Remove and return item at index (default last).\n",
      " |      \n",
      " |      Raises IndexError if list is empty or index is out of range.\n",
      " |  \n",
      " |  remove(self, value, /)\n",
      " |      Remove first occurrence of value.\n",
      " |      \n",
      " |      Raises ValueError if the value is not present.\n",
      " |  \n",
      " |  reverse(self, /)\n",
      " |      Reverse *IN PLACE*.\n",
      " |  \n",
      " |  sort(self, /, *, key=None, reverse=False)\n",
      " |      Stable sort *IN PLACE*.\n",
      " |  \n",
      " |  ----------------------------------------------------------------------\n",
      " |  Static methods defined here:\n",
      " |  \n",
      " |  __new__(*args, **kwargs) from builtins.type\n",
      " |      Create and return a new object.  See help(type) for accurate signature.\n",
      " |  \n",
      " |  ----------------------------------------------------------------------\n",
      " |  Data and other attributes defined here:\n",
      " |  \n",
      " |  __hash__ = None\n",
      "\n"
     ]
    }
   ],
   "source": [
    "help()"
   ]
  },
  {
   "cell_type": "code",
   "execution_count": 1,
   "id": "2021f146",
   "metadata": {},
   "outputs": [
    {
     "name": "stdout",
     "output_type": "stream",
     "text": [
      "['__add__', '__class__', '__contains__', '__delattr__', '__delitem__', '__dir__', '__doc__', '__eq__', '__format__', '__ge__', '__getattribute__', '__getitem__', '__gt__', '__hash__', '__iadd__', '__imul__', '__init__', '__init_subclass__', '__iter__', '__le__', '__len__', '__lt__', '__mul__', '__ne__', '__new__', '__reduce__', '__reduce_ex__', '__repr__', '__reversed__', '__rmul__', '__setattr__', '__setitem__', '__sizeof__', '__str__', '__subclasshook__', 'append', 'clear', 'copy', 'count', 'extend', 'index', 'insert', 'pop', 'remove', 'reverse', 'sort']\n"
     ]
    }
   ],
   "source": [
    "print(dir(list))"
   ]
  },
  {
   "cell_type": "code",
   "execution_count": 2,
   "id": "a176e479",
   "metadata": {},
   "outputs": [
    {
     "name": "stdout",
     "output_type": "stream",
     "text": [
      "[12, 45, '78', 'ramesh']\n",
      "[12, 45, '78', 'ramesh', 45]\n"
     ]
    }
   ],
   "source": [
    "d = [12,45,'78','ramesh']\n",
    "print(d)\n",
    "d.append(45)\n",
    "print(d)"
   ]
  },
  {
   "cell_type": "code",
   "execution_count": 3,
   "id": "5c8a3c55",
   "metadata": {},
   "outputs": [
    {
     "name": "stdout",
     "output_type": "stream",
     "text": [
      "[12, 45, '78', 'ramesh', 45]\n",
      "[12, 45, '78', 'ramesh', 45, [45, 78, 96, 890]]\n"
     ]
    }
   ],
   "source": [
    "print(d)\n",
    "d.append([45,78,96,890])\n",
    "print(d)"
   ]
  },
  {
   "cell_type": "code",
   "execution_count": 4,
   "id": "c72d1c46",
   "metadata": {},
   "outputs": [
    {
     "name": "stdout",
     "output_type": "stream",
     "text": [
      "[12, 45, '78', 'ramesh', 45, [45, 78, 96, 890]]\n"
     ]
    },
    {
     "ename": "TypeError",
     "evalue": "append() takes exactly one argument (2 given)",
     "output_type": "error",
     "traceback": [
      "\u001b[1;31m---------------------------------------------------------------------------\u001b[0m",
      "\u001b[1;31mTypeError\u001b[0m                                 Traceback (most recent call last)",
      "\u001b[1;32m<ipython-input-4-dfee0af8da3d>\u001b[0m in \u001b[0;36m<module>\u001b[1;34m\u001b[0m\n\u001b[0;32m      1\u001b[0m \u001b[0mprint\u001b[0m\u001b[1;33m(\u001b[0m\u001b[0md\u001b[0m\u001b[1;33m)\u001b[0m\u001b[1;33m\u001b[0m\u001b[1;33m\u001b[0m\u001b[0m\n\u001b[1;32m----> 2\u001b[1;33m \u001b[0md\u001b[0m\u001b[1;33m.\u001b[0m\u001b[0mappend\u001b[0m\u001b[1;33m(\u001b[0m\u001b[1;36m12\u001b[0m\u001b[1;33m,\u001b[0m\u001b[1;36m78\u001b[0m\u001b[1;33m)\u001b[0m\u001b[1;33m\u001b[0m\u001b[1;33m\u001b[0m\u001b[0m\n\u001b[0m\u001b[0;32m      3\u001b[0m \u001b[0mprint\u001b[0m\u001b[1;33m(\u001b[0m\u001b[0md\u001b[0m\u001b[1;33m)\u001b[0m\u001b[1;33m\u001b[0m\u001b[1;33m\u001b[0m\u001b[0m\n",
      "\u001b[1;31mTypeError\u001b[0m: append() takes exactly one argument (2 given)"
     ]
    }
   ],
   "source": [
    "print(d)\n",
    "d.append(12,78)\n",
    "print(d)"
   ]
  },
  {
   "cell_type": "code",
   "execution_count": 5,
   "id": "f950f2cb",
   "metadata": {},
   "outputs": [
    {
     "name": "stdout",
     "output_type": "stream",
     "text": [
      "[12, 45, '78', 'ramesh', 45, [45, 78, 96, 890]]\n",
      "[12, 45, '78', 'ramesh', 45, [45, 78, 96, 890], ('raju', 'somu')]\n"
     ]
    }
   ],
   "source": [
    "print(d)\n",
    "d.append(('raju','somu'))\n",
    "print(d)"
   ]
  },
  {
   "cell_type": "code",
   "execution_count": 6,
   "id": "4ea71fc9",
   "metadata": {},
   "outputs": [
    {
     "name": "stdout",
     "output_type": "stream",
     "text": [
      "[12, 45, '78', 'ramesh', 45, [45, 78, 96, 890], ('raju', 'somu')]\n"
     ]
    },
    {
     "ename": "TypeError",
     "evalue": "'int' object is not iterable",
     "output_type": "error",
     "traceback": [
      "\u001b[1;31m---------------------------------------------------------------------------\u001b[0m",
      "\u001b[1;31mTypeError\u001b[0m                                 Traceback (most recent call last)",
      "\u001b[1;32m<ipython-input-6-c4b269451f6d>\u001b[0m in \u001b[0;36m<module>\u001b[1;34m\u001b[0m\n\u001b[0;32m      1\u001b[0m \u001b[0mprint\u001b[0m\u001b[1;33m(\u001b[0m\u001b[0md\u001b[0m\u001b[1;33m)\u001b[0m\u001b[1;33m\u001b[0m\u001b[1;33m\u001b[0m\u001b[0m\n\u001b[1;32m----> 2\u001b[1;33m \u001b[0md\u001b[0m\u001b[1;33m.\u001b[0m\u001b[0mextend\u001b[0m\u001b[1;33m(\u001b[0m\u001b[1;36m12\u001b[0m\u001b[1;33m)\u001b[0m\u001b[1;33m\u001b[0m\u001b[1;33m\u001b[0m\u001b[0m\n\u001b[0m\u001b[0;32m      3\u001b[0m \u001b[0mprint\u001b[0m\u001b[1;33m(\u001b[0m\u001b[0md\u001b[0m\u001b[1;33m)\u001b[0m\u001b[1;33m\u001b[0m\u001b[1;33m\u001b[0m\u001b[0m\n",
      "\u001b[1;31mTypeError\u001b[0m: 'int' object is not iterable"
     ]
    }
   ],
   "source": [
    "print(d)\n",
    "d.extend(12)\n",
    "print(d)"
   ]
  },
  {
   "cell_type": "code",
   "execution_count": 7,
   "id": "d0bb7272",
   "metadata": {},
   "outputs": [
    {
     "name": "stdout",
     "output_type": "stream",
     "text": [
      "[12, 45, '78', 'ramesh', 45, [45, 78, 96, 890], ('raju', 'somu')]\n",
      "[12, 45, '78', 'ramesh', 45, [45, 78, 96, 890], ('raju', 'somu'), 0.12, 'Manoj', '90']\n"
     ]
    }
   ],
   "source": [
    "print(d)\n",
    "d.extend([0.12,\"Manoj\",'90'])\n",
    "print(d)"
   ]
  },
  {
   "cell_type": "code",
   "execution_count": 8,
   "id": "4b70f530",
   "metadata": {},
   "outputs": [
    {
     "name": "stdout",
     "output_type": "stream",
     "text": [
      "[12, 45, '78', 'ramesh', 45, [45, 78, 96, 890], ('raju', 'somu'), 0.12, 'Manoj', '90']\n"
     ]
    },
    {
     "ename": "TypeError",
     "evalue": "insert() takes exactly 2 arguments (0 given)",
     "output_type": "error",
     "traceback": [
      "\u001b[1;31m---------------------------------------------------------------------------\u001b[0m",
      "\u001b[1;31mTypeError\u001b[0m                                 Traceback (most recent call last)",
      "\u001b[1;32m<ipython-input-8-d4540281cb9a>\u001b[0m in \u001b[0;36m<module>\u001b[1;34m\u001b[0m\n\u001b[0;32m      1\u001b[0m \u001b[0mprint\u001b[0m\u001b[1;33m(\u001b[0m\u001b[0md\u001b[0m\u001b[1;33m)\u001b[0m\u001b[1;33m\u001b[0m\u001b[1;33m\u001b[0m\u001b[0m\n\u001b[1;32m----> 2\u001b[1;33m \u001b[0mprint\u001b[0m\u001b[1;33m(\u001b[0m\u001b[0md\u001b[0m\u001b[1;33m.\u001b[0m\u001b[0minsert\u001b[0m\u001b[1;33m(\u001b[0m\u001b[1;33m)\u001b[0m\u001b[1;33m)\u001b[0m\u001b[1;33m\u001b[0m\u001b[1;33m\u001b[0m\u001b[0m\n\u001b[0m\u001b[0;32m      3\u001b[0m \u001b[0mprint\u001b[0m\u001b[1;33m(\u001b[0m\u001b[0md\u001b[0m\u001b[1;33m)\u001b[0m\u001b[1;33m\u001b[0m\u001b[1;33m\u001b[0m\u001b[0m\n",
      "\u001b[1;31mTypeError\u001b[0m: insert() takes exactly 2 arguments (0 given)"
     ]
    }
   ],
   "source": [
    "print(d)\n",
    "print(d.insert())\n",
    "print(d)       "
   ]
  },
  {
   "cell_type": "code",
   "execution_count": 9,
   "id": "efe14f31",
   "metadata": {},
   "outputs": [
    {
     "name": "stdout",
     "output_type": "stream",
     "text": [
      "[12, 45, '78', 'ramesh', 45, [45, 78, 96, 890], ('raju', 'somu'), 0.12, 'Manoj', '90']\n",
      "['ramya', 12, 45, '78', 'ramesh', 45, [45, 78, 96, 890], ('raju', 'somu'), 0.12, 'Manoj', '90']\n"
     ]
    }
   ],
   "source": [
    "print(d)\n",
    "d.insert(0,'ramya')\n",
    "print(d)"
   ]
  },
  {
   "cell_type": "code",
   "execution_count": 10,
   "id": "cf6fe3c9",
   "metadata": {},
   "outputs": [
    {
     "name": "stdout",
     "output_type": "stream",
     "text": [
      "['ramya', 12, 45, '78', 'ramesh', 45, [45, 78, 96, 890], ('raju', 'somu'), 0.12, 'Manoj', '90']\n",
      "[[45, 78, 96], 'ramya', 12, 45, '78', 'ramesh', 45, [45, 78, 96, 890], ('raju', 'somu'), 0.12, 'Manoj', '90']\n"
     ]
    }
   ],
   "source": [
    "print(d)\n",
    "d.insert(0,[45,78,96])\n",
    "print(d)"
   ]
  },
  {
   "cell_type": "code",
   "execution_count": 11,
   "id": "a81955cd",
   "metadata": {},
   "outputs": [
    {
     "name": "stdout",
     "output_type": "stream",
     "text": [
      "[[45, 78, 96], 'ramya', 12, 45, '78', 'ramesh', 45, [45, 78, 96, 890], ('raju', 'somu'), 0.12, 'Manoj', '90']\n",
      "[[45, 78, 96], 'ramya', 12, 45, '78', 'ramesh', 45, [45, 78, 96, 890], ('raju', 'somu'), 0.12, 'Manoj']\n"
     ]
    }
   ],
   "source": [
    "print(d)\n",
    "d.pop()\n",
    "print(d)"
   ]
  },
  {
   "cell_type": "code",
   "execution_count": 12,
   "id": "7b058524",
   "metadata": {},
   "outputs": [
    {
     "name": "stdout",
     "output_type": "stream",
     "text": [
      "[[45, 78, 96], 'ramya', 12, 45, '78', 'ramesh', 45, [45, 78, 96, 890], ('raju', 'somu'), 0.12, 'Manoj']\n"
     ]
    },
    {
     "ename": "IndexError",
     "evalue": "pop index out of range",
     "output_type": "error",
     "traceback": [
      "\u001b[1;31m---------------------------------------------------------------------------\u001b[0m",
      "\u001b[1;31mIndexError\u001b[0m                                Traceback (most recent call last)",
      "\u001b[1;32m<ipython-input-12-31b372cf3bd3>\u001b[0m in \u001b[0;36m<module>\u001b[1;34m\u001b[0m\n\u001b[0;32m      1\u001b[0m \u001b[0mprint\u001b[0m\u001b[1;33m(\u001b[0m\u001b[0md\u001b[0m\u001b[1;33m)\u001b[0m\u001b[1;33m\u001b[0m\u001b[1;33m\u001b[0m\u001b[0m\n\u001b[1;32m----> 2\u001b[1;33m \u001b[0md\u001b[0m\u001b[1;33m.\u001b[0m\u001b[0mpop\u001b[0m\u001b[1;33m(\u001b[0m\u001b[1;36m456\u001b[0m\u001b[1;33m)\u001b[0m\u001b[1;33m\u001b[0m\u001b[1;33m\u001b[0m\u001b[0m\n\u001b[0m\u001b[0;32m      3\u001b[0m \u001b[0mprint\u001b[0m\u001b[1;33m(\u001b[0m\u001b[0md\u001b[0m\u001b[1;33m)\u001b[0m\u001b[1;33m\u001b[0m\u001b[1;33m\u001b[0m\u001b[0m\n",
      "\u001b[1;31mIndexError\u001b[0m: pop index out of range"
     ]
    }
   ],
   "source": [
    "print(d)\n",
    "d.pop(456)\n",
    "print(d)"
   ]
  },
  {
   "cell_type": "code",
   "execution_count": 13,
   "id": "b16318e5",
   "metadata": {},
   "outputs": [
    {
     "name": "stdout",
     "output_type": "stream",
     "text": [
      "[[45, 78, 96], 'ramya', 12, 45, '78', 'ramesh', 45, [45, 78, 96, 890], ('raju', 'somu'), 0.12, 'Manoj']\n",
      "[[45, 78, 96], 12, 45, '78', 'ramesh', 45, [45, 78, 96, 890], ('raju', 'somu'), 0.12, 'Manoj']\n"
     ]
    }
   ],
   "source": [
    "print(d)\n",
    "d.pop(1)\n",
    "print(d)"
   ]
  },
  {
   "cell_type": "code",
   "execution_count": 14,
   "id": "9803e94e",
   "metadata": {},
   "outputs": [
    {
     "name": "stdout",
     "output_type": "stream",
     "text": [
      "[[45, 78, 96], 12, 45, '78', 'ramesh', 45, [45, 78, 96, 890], ('raju', 'somu'), 0.12, 'Manoj']\n"
     ]
    },
    {
     "ename": "TypeError",
     "evalue": "remove() takes exactly one argument (0 given)",
     "output_type": "error",
     "traceback": [
      "\u001b[1;31m---------------------------------------------------------------------------\u001b[0m",
      "\u001b[1;31mTypeError\u001b[0m                                 Traceback (most recent call last)",
      "\u001b[1;32m<ipython-input-14-a87d1c5b83a3>\u001b[0m in \u001b[0;36m<module>\u001b[1;34m\u001b[0m\n\u001b[0;32m      1\u001b[0m \u001b[0mprint\u001b[0m\u001b[1;33m(\u001b[0m\u001b[0md\u001b[0m\u001b[1;33m)\u001b[0m\u001b[1;33m\u001b[0m\u001b[1;33m\u001b[0m\u001b[0m\n\u001b[1;32m----> 2\u001b[1;33m \u001b[0md\u001b[0m\u001b[1;33m.\u001b[0m\u001b[0mremove\u001b[0m\u001b[1;33m(\u001b[0m\u001b[1;33m)\u001b[0m\u001b[1;33m\u001b[0m\u001b[1;33m\u001b[0m\u001b[0m\n\u001b[0m\u001b[0;32m      3\u001b[0m \u001b[0mprint\u001b[0m\u001b[1;33m(\u001b[0m\u001b[0md\u001b[0m\u001b[1;33m)\u001b[0m\u001b[1;33m\u001b[0m\u001b[1;33m\u001b[0m\u001b[0m\n",
      "\u001b[1;31mTypeError\u001b[0m: remove() takes exactly one argument (0 given)"
     ]
    }
   ],
   "source": [
    "print(d)\n",
    "d.remove()\n",
    "print(d)"
   ]
  },
  {
   "cell_type": "code",
   "execution_count": 15,
   "id": "a35e5a6e",
   "metadata": {},
   "outputs": [
    {
     "name": "stdout",
     "output_type": "stream",
     "text": [
      "[[45, 78, 96], 12, 45, '78', 'ramesh', 45, [45, 78, 96, 890], ('raju', 'somu'), 0.12, 'Manoj']\n",
      "[[45, 78, 96], 12, '78', 'ramesh', 45, [45, 78, 96, 890], ('raju', 'somu'), 0.12, 'Manoj']\n"
     ]
    }
   ],
   "source": [
    "print(d)\n",
    "d.remove(45)\n",
    "print(d)"
   ]
  },
  {
   "cell_type": "code",
   "execution_count": 16,
   "id": "e652f62d",
   "metadata": {},
   "outputs": [
    {
     "name": "stdout",
     "output_type": "stream",
     "text": [
      "[[45, 78, 96], 12, '78', 'ramesh', 45, [45, 78, 96, 890], ('raju', 'somu'), 0.12, 'Manoj']\n"
     ]
    },
    {
     "ename": "ValueError",
     "evalue": "list.remove(x): x not in list",
     "output_type": "error",
     "traceback": [
      "\u001b[1;31m---------------------------------------------------------------------------\u001b[0m",
      "\u001b[1;31mValueError\u001b[0m                                Traceback (most recent call last)",
      "\u001b[1;32m<ipython-input-16-5d71e704d602>\u001b[0m in \u001b[0;36m<module>\u001b[1;34m\u001b[0m\n\u001b[0;32m      1\u001b[0m \u001b[0mprint\u001b[0m\u001b[1;33m(\u001b[0m\u001b[0md\u001b[0m\u001b[1;33m)\u001b[0m\u001b[1;33m\u001b[0m\u001b[1;33m\u001b[0m\u001b[0m\n\u001b[1;32m----> 2\u001b[1;33m \u001b[0md\u001b[0m\u001b[1;33m.\u001b[0m\u001b[0mremove\u001b[0m\u001b[1;33m(\u001b[0m\u001b[1;34m'120'\u001b[0m\u001b[1;33m)\u001b[0m\u001b[1;33m\u001b[0m\u001b[1;33m\u001b[0m\u001b[0m\n\u001b[0m\u001b[0;32m      3\u001b[0m \u001b[0mprint\u001b[0m\u001b[1;33m(\u001b[0m\u001b[0md\u001b[0m\u001b[1;33m)\u001b[0m\u001b[1;33m\u001b[0m\u001b[1;33m\u001b[0m\u001b[0m\n",
      "\u001b[1;31mValueError\u001b[0m: list.remove(x): x not in list"
     ]
    }
   ],
   "source": [
    "print(d)\n",
    "d.remove('120')\n",
    "print(d)"
   ]
  },
  {
   "cell_type": "code",
   "execution_count": 17,
   "id": "f586f6e9",
   "metadata": {},
   "outputs": [
    {
     "name": "stdout",
     "output_type": "stream",
     "text": [
      "[[45, 78, 96], 12, '78', 'ramesh', 45, [45, 78, 96, 890], ('raju', 'somu'), 0.12, 'Manoj']\n",
      "1\n"
     ]
    }
   ],
   "source": [
    "print(d)\n",
    "print(d.count(45))"
   ]
  },
  {
   "cell_type": "code",
   "execution_count": 18,
   "id": "5f3f0d8b",
   "metadata": {},
   "outputs": [
    {
     "name": "stdout",
     "output_type": "stream",
     "text": [
      "[[45, 78, 96], 12, '78', 'ramesh', 45, [45, 78, 96, 890], ('raju', 'somu'), 0.12, 'Manoj']\n",
      "0\n"
     ]
    }
   ],
   "source": [
    "print(d)\n",
    "print(d.count(320))"
   ]
  },
  {
   "cell_type": "code",
   "execution_count": 19,
   "id": "014776cf",
   "metadata": {},
   "outputs": [
    {
     "name": "stdout",
     "output_type": "stream",
     "text": [
      "[[45, 78, 96], 12, '78', 'ramesh', 45, [45, 78, 96, 890], ('raju', 'somu'), 0.12, 'Manoj']\n",
      "['Manoj', 0.12, ('raju', 'somu'), [45, 78, 96, 890], 45, 'ramesh', '78', 12, [45, 78, 96]]\n"
     ]
    }
   ],
   "source": [
    "print(d)\n",
    "d.reverse()\n",
    "print(d)"
   ]
  },
  {
   "cell_type": "code",
   "execution_count": 20,
   "id": "e549e749",
   "metadata": {},
   "outputs": [
    {
     "name": "stdout",
     "output_type": "stream",
     "text": [
      "['Manoj', 0.12, ('raju', 'somu'), [45, 78, 96, 890], 45, 'ramesh', '78', 12, [45, 78, 96]]\n"
     ]
    }
   ],
   "source": [
    "print(d)"
   ]
  },
  {
   "cell_type": "code",
   "execution_count": 21,
   "id": "ac57c5bc",
   "metadata": {},
   "outputs": [
    {
     "name": "stdout",
     "output_type": "stream",
     "text": [
      "['Manoj', 0.12, ('raju', 'somu'), [45, 78, 96, 890], 45, 'ramesh', '78', 12, [45, 78, 96]]\n"
     ]
    },
    {
     "ename": "TypeError",
     "evalue": "'<' not supported between instances of 'float' and 'str'",
     "output_type": "error",
     "traceback": [
      "\u001b[1;31m---------------------------------------------------------------------------\u001b[0m",
      "\u001b[1;31mTypeError\u001b[0m                                 Traceback (most recent call last)",
      "\u001b[1;32m<ipython-input-21-e4deeb86e548>\u001b[0m in \u001b[0;36m<module>\u001b[1;34m\u001b[0m\n\u001b[0;32m      1\u001b[0m \u001b[0mprint\u001b[0m\u001b[1;33m(\u001b[0m\u001b[0md\u001b[0m\u001b[1;33m)\u001b[0m\u001b[1;33m\u001b[0m\u001b[1;33m\u001b[0m\u001b[0m\n\u001b[1;32m----> 2\u001b[1;33m \u001b[0md\u001b[0m\u001b[1;33m.\u001b[0m\u001b[0msort\u001b[0m\u001b[1;33m(\u001b[0m\u001b[1;33m)\u001b[0m\u001b[1;33m\u001b[0m\u001b[1;33m\u001b[0m\u001b[0m\n\u001b[0m\u001b[0;32m      3\u001b[0m \u001b[0mprint\u001b[0m\u001b[1;33m(\u001b[0m\u001b[0md\u001b[0m\u001b[1;33m)\u001b[0m\u001b[1;33m\u001b[0m\u001b[1;33m\u001b[0m\u001b[0m\n",
      "\u001b[1;31mTypeError\u001b[0m: '<' not supported between instances of 'float' and 'str'"
     ]
    }
   ],
   "source": [
    "print(d)\n",
    "d.sort()\n",
    "print(d)"
   ]
  },
  {
   "cell_type": "code",
   "execution_count": 22,
   "id": "8e306018",
   "metadata": {},
   "outputs": [
    {
     "name": "stdout",
     "output_type": "stream",
     "text": [
      "[12, 78, 1, 89]\n",
      "[1, 12, 78, 89]\n"
     ]
    }
   ],
   "source": [
    "w = [12,78,1,89]\n",
    "print(w)\n",
    "w.sort()\n",
    "print(w)"
   ]
  },
  {
   "cell_type": "code",
   "execution_count": 25,
   "id": "0f43b54d",
   "metadata": {},
   "outputs": [
    {
     "name": "stdout",
     "output_type": "stream",
     "text": [
      "[1, 12, 78, 89]\n",
      "[89, 78, 12, 1]\n"
     ]
    }
   ],
   "source": [
    "print(w)\n",
    "w.sort(reverse=True)\n",
    "print(w)"
   ]
  },
  {
   "cell_type": "code",
   "execution_count": 26,
   "id": "7e0184e4",
   "metadata": {},
   "outputs": [
    {
     "name": "stdout",
     "output_type": "stream",
     "text": [
      "[45, 78]\n",
      "[45, 4, 8]\n",
      "[45, 78]\n"
     ]
    }
   ],
   "source": [
    "j = [45,78]\n",
    "m = [45,4,8]\n",
    "g = j.copy()\n",
    "print(j)\n",
    "print(m)\n",
    "print(g)"
   ]
  },
  {
   "cell_type": "code",
   "execution_count": 27,
   "id": "5e7a1499",
   "metadata": {},
   "outputs": [
    {
     "name": "stdout",
     "output_type": "stream",
     "text": [
      "[45, 78]\n",
      "[45, 4, 8]\n",
      "[45, 78]\n",
      "[45]\n",
      "[45, 4, 8]\n",
      "[45, 78]\n"
     ]
    }
   ],
   "source": [
    "print(j)\n",
    "print(m)\n",
    "print(g)\n",
    "j.pop()\n",
    "print(j)\n",
    "print(m)\n",
    "print(g)"
   ]
  },
  {
   "cell_type": "code",
   "execution_count": 28,
   "id": "369744a0",
   "metadata": {},
   "outputs": [
    {
     "name": "stdout",
     "output_type": "stream",
     "text": [
      "[45]\n",
      "[]\n"
     ]
    }
   ],
   "source": [
    "print(j)\n",
    "j.clear()\n",
    "print(j)"
   ]
  },
  {
   "cell_type": "code",
   "execution_count": 29,
   "id": "d17aaee2",
   "metadata": {},
   "outputs": [
    {
     "name": "stdout",
     "output_type": "stream",
     "text": [
      "[45, 78]\n"
     ]
    },
    {
     "ename": "NameError",
     "evalue": "name 'g' is not defined",
     "output_type": "error",
     "traceback": [
      "\u001b[1;31m---------------------------------------------------------------------------\u001b[0m",
      "\u001b[1;31mNameError\u001b[0m                                 Traceback (most recent call last)",
      "\u001b[1;32m<ipython-input-29-0d1aafb3dac3>\u001b[0m in \u001b[0;36m<module>\u001b[1;34m\u001b[0m\n\u001b[0;32m      1\u001b[0m \u001b[0mprint\u001b[0m\u001b[1;33m(\u001b[0m\u001b[0mg\u001b[0m\u001b[1;33m)\u001b[0m\u001b[1;33m\u001b[0m\u001b[1;33m\u001b[0m\u001b[0m\n\u001b[0;32m      2\u001b[0m \u001b[1;32mdel\u001b[0m \u001b[0mg\u001b[0m\u001b[1;33m\u001b[0m\u001b[1;33m\u001b[0m\u001b[0m\n\u001b[1;32m----> 3\u001b[1;33m \u001b[0mprint\u001b[0m\u001b[1;33m(\u001b[0m\u001b[0mg\u001b[0m\u001b[1;33m)\u001b[0m\u001b[1;33m\u001b[0m\u001b[1;33m\u001b[0m\u001b[0m\n\u001b[0m",
      "\u001b[1;31mNameError\u001b[0m: name 'g' is not defined"
     ]
    }
   ],
   "source": [
    "print(g)\n",
    "del g\n",
    "print(g)"
   ]
  },
  {
   "cell_type": "code",
   "execution_count": null,
   "id": "eec1a9ee",
   "metadata": {},
   "outputs": [],
   "source": [
    "12 45 63 89 78\n",
    "\n",
    "[12,45,63,89,78]"
   ]
  },
  {
   "cell_type": "code",
   "execution_count": 32,
   "id": "66338ea2",
   "metadata": {},
   "outputs": [
    {
     "name": "stdout",
     "output_type": "stream",
     "text": [
      "12 45 7 9 6\n",
      "['12', '45', '7', '9', '6'] <class 'list'>\n",
      "[12, 45, 7, 9, 6]\n"
     ]
    }
   ],
   "source": [
    "p = input().split()\n",
    "print(p,type(p))\n",
    "m = []\n",
    "for i in range(len(p)):\n",
    "    m.append(int(p[i]))\n",
    "print(m)"
   ]
  },
  {
   "cell_type": "code",
   "execution_count": 33,
   "id": "1e862697",
   "metadata": {},
   "outputs": [
    {
     "name": "stdout",
     "output_type": "stream",
     "text": [
      "45 78 95 9865 6\n",
      "[45, 78, 95, 9865, 6]\n"
     ]
    }
   ],
   "source": [
    "k = input().split()\n",
    "r = []\n",
    "for j in k:\n",
    "    r.append(int(j))\n",
    "print(r)"
   ]
  },
  {
   "cell_type": "markdown",
   "id": "d7ce8e55",
   "metadata": {},
   "source": [
    "# Tuple:\n",
    "    - It can be represented as ()\n",
    "    - It allows duplicate elements\n",
    "    - It allows slicing because of index\n",
    "    - It can't changes the values\n",
    "    - It can be type cast as tuple()\n",
    "    - It can stores the data in ordered format"
   ]
  },
  {
   "cell_type": "code",
   "execution_count": null,
   "id": "17df3b4c",
   "metadata": {},
   "outputs": [],
   "source": []
  }
 ],
 "metadata": {
  "kernelspec": {
   "display_name": "Python 3",
   "language": "python",
   "name": "python3"
  },
  "language_info": {
   "codemirror_mode": {
    "name": "ipython",
    "version": 3
   },
   "file_extension": ".py",
   "mimetype": "text/x-python",
   "name": "python",
   "nbconvert_exporter": "python",
   "pygments_lexer": "ipython3",
   "version": "3.7.5"
  }
 },
 "nbformat": 4,
 "nbformat_minor": 5
}
